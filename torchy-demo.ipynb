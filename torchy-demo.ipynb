{
 "cells": [
  {
   "cell_type": "markdown",
   "id": "14468603",
   "metadata": {
    "papermill": {
     "duration": 0.005039,
     "end_time": "2023-08-14T06:56:28.578936",
     "exception": false,
     "start_time": "2023-08-14T06:56:28.573897",
     "status": "completed"
    },
    "tags": []
   },
   "source": [
    "# Torchy demo on Iris Species dataset"
   ]
  },
  {
   "cell_type": "markdown",
   "id": "39c2f141",
   "metadata": {
    "papermill": {
     "duration": 0.004097,
     "end_time": "2023-08-14T06:56:28.587628",
     "exception": false,
     "start_time": "2023-08-14T06:56:28.583531",
     "status": "completed"
    },
    "tags": []
   },
   "source": [
    "### Import essential dependencies"
   ]
  },
  {
   "cell_type": "code",
   "execution_count": 1,
   "id": "4c2012b9",
   "metadata": {
    "execution": {
     "iopub.execute_input": "2023-08-14T06:56:28.598899Z",
     "iopub.status.busy": "2023-08-14T06:56:28.597682Z",
     "iopub.status.idle": "2023-08-14T06:56:30.040184Z",
     "shell.execute_reply": "2023-08-14T06:56:30.038886Z"
    },
    "papermill": {
     "duration": 1.451388,
     "end_time": "2023-08-14T06:56:30.043211",
     "exception": false,
     "start_time": "2023-08-14T06:56:28.591823",
     "status": "completed"
    },
    "tags": []
   },
   "outputs": [
    {
     "name": "stderr",
     "output_type": "stream",
     "text": [
      "/opt/conda/lib/python3.10/site-packages/scipy/__init__.py:146: UserWarning: A NumPy version >=1.16.5 and <1.23.0 is required for this version of SciPy (detected version 1.23.5\n",
      "  warnings.warn(f\"A NumPy version >={np_minversion} and <{np_maxversion}\"\n"
     ]
    }
   ],
   "source": [
    "import numpy as np\n",
    "\n",
    "import matplotlib.pyplot as plt\n",
    "%matplotlib inline\n",
    "\n",
    "from sklearn.datasets import load_iris"
   ]
  },
  {
   "cell_type": "markdown",
   "id": "c07a9d31",
   "metadata": {
    "papermill": {
     "duration": 0.004153,
     "end_time": "2023-08-14T06:56:30.051965",
     "exception": false,
     "start_time": "2023-08-14T06:56:30.047812",
     "status": "completed"
    },
    "tags": []
   },
   "source": [
    "### Install and import Torchy dependencies"
   ]
  },
  {
   "cell_type": "code",
   "execution_count": 2,
   "id": "8905ceef",
   "metadata": {
    "execution": {
     "iopub.execute_input": "2023-08-14T06:56:30.063730Z",
     "iopub.status.busy": "2023-08-14T06:56:30.063283Z",
     "iopub.status.idle": "2023-08-14T06:56:44.489717Z",
     "shell.execute_reply": "2023-08-14T06:56:44.488373Z"
    },
    "papermill": {
     "duration": 14.435775,
     "end_time": "2023-08-14T06:56:44.492331",
     "exception": false,
     "start_time": "2023-08-14T06:56:30.056556",
     "status": "completed"
    },
    "tags": []
   },
   "outputs": [
    {
     "name": "stdout",
     "output_type": "stream",
     "text": [
      "Collecting torchy-nn\r\n",
      "  Downloading torchy_nn-0.0.1.1-py3-none-any.whl (5.8 kB)\r\n",
      "Requirement already satisfied: numpy in /opt/conda/lib/python3.10/site-packages (from torchy-nn) (1.23.5)\r\n",
      "Requirement already satisfied: scikit-learn in /opt/conda/lib/python3.10/site-packages (from torchy-nn) (1.2.2)\r\n",
      "Requirement already satisfied: pytest in /opt/conda/lib/python3.10/site-packages (from torchy-nn) (7.4.0)\r\n",
      "Requirement already satisfied: iniconfig in /opt/conda/lib/python3.10/site-packages (from pytest->torchy-nn) (2.0.0)\r\n",
      "Requirement already satisfied: packaging in /opt/conda/lib/python3.10/site-packages (from pytest->torchy-nn) (21.3)\r\n",
      "Requirement already satisfied: pluggy<2.0,>=0.12 in /opt/conda/lib/python3.10/site-packages (from pytest->torchy-nn) (1.0.0)\r\n",
      "Requirement already satisfied: exceptiongroup>=1.0.0rc8 in /opt/conda/lib/python3.10/site-packages (from pytest->torchy-nn) (1.1.1)\r\n",
      "Requirement already satisfied: tomli>=1.0.0 in /opt/conda/lib/python3.10/site-packages (from pytest->torchy-nn) (2.0.1)\r\n",
      "Requirement already satisfied: scipy>=1.3.2 in /opt/conda/lib/python3.10/site-packages (from scikit-learn->torchy-nn) (1.11.1)\r\n",
      "Requirement already satisfied: joblib>=1.1.1 in /opt/conda/lib/python3.10/site-packages (from scikit-learn->torchy-nn) (1.2.0)\r\n",
      "Requirement already satisfied: threadpoolctl>=2.0.0 in /opt/conda/lib/python3.10/site-packages (from scikit-learn->torchy-nn) (3.1.0)\r\n",
      "Requirement already satisfied: pyparsing!=3.0.5,>=2.0.2 in /opt/conda/lib/python3.10/site-packages (from packaging->pytest->torchy-nn) (3.0.9)\r\n",
      "Installing collected packages: torchy-nn\r\n",
      "Successfully installed torchy-nn-0.0.1.1\r\n",
      "Note: you may need to restart the kernel to use updated packages.\n"
     ]
    }
   ],
   "source": [
    "pip install torchy-nn"
   ]
  },
  {
   "cell_type": "code",
   "execution_count": 3,
   "id": "0155cb93",
   "metadata": {
    "execution": {
     "iopub.execute_input": "2023-08-14T06:56:44.506981Z",
     "iopub.status.busy": "2023-08-14T06:56:44.506473Z",
     "iopub.status.idle": "2023-08-14T06:56:44.519899Z",
     "shell.execute_reply": "2023-08-14T06:56:44.518064Z"
    },
    "papermill": {
     "duration": 0.025376,
     "end_time": "2023-08-14T06:56:44.522792",
     "exception": false,
     "start_time": "2023-08-14T06:56:44.497416",
     "status": "completed"
    },
    "tags": []
   },
   "outputs": [],
   "source": [
    "from torchy.sequential import Sequential\n",
    "import torchy.layer as layer\n",
    "import torchy.loss as loss\n",
    "import torchy.optim as optim"
   ]
  },
  {
   "cell_type": "code",
   "execution_count": 4,
   "id": "cf9fdadc",
   "metadata": {
    "execution": {
     "iopub.execute_input": "2023-08-14T06:56:44.535672Z",
     "iopub.status.busy": "2023-08-14T06:56:44.534382Z",
     "iopub.status.idle": "2023-08-14T06:56:44.542170Z",
     "shell.execute_reply": "2023-08-14T06:56:44.540145Z"
    },
    "papermill": {
     "duration": 0.017272,
     "end_time": "2023-08-14T06:56:44.545186",
     "exception": false,
     "start_time": "2023-08-14T06:56:44.527914",
     "status": "completed"
    },
    "tags": []
   },
   "outputs": [],
   "source": [
    "np.random.seed(42)"
   ]
  },
  {
   "cell_type": "markdown",
   "id": "6f970098",
   "metadata": {
    "papermill": {
     "duration": 0.004825,
     "end_time": "2023-08-14T06:56:44.555216",
     "exception": false,
     "start_time": "2023-08-14T06:56:44.550391",
     "status": "completed"
    },
    "tags": []
   },
   "source": [
    "### Load Iris dataset"
   ]
  },
  {
   "cell_type": "code",
   "execution_count": 5,
   "id": "b601196e",
   "metadata": {
    "execution": {
     "iopub.execute_input": "2023-08-14T06:56:44.567239Z",
     "iopub.status.busy": "2023-08-14T06:56:44.566794Z",
     "iopub.status.idle": "2023-08-14T06:56:44.889086Z",
     "shell.execute_reply": "2023-08-14T06:56:44.887737Z"
    },
    "papermill": {
     "duration": 0.331288,
     "end_time": "2023-08-14T06:56:44.891606",
     "exception": false,
     "start_time": "2023-08-14T06:56:44.560318",
     "status": "completed"
    },
    "tags": []
   },
   "outputs": [
    {
     "data": {
      "text/plain": [
       "<matplotlib.collections.PathCollection at 0x7958edc38b20>"
      ]
     },
     "execution_count": 5,
     "metadata": {},
     "output_type": "execute_result"
    },
    {
     "data": {
      "image/png": "[encoded data removed]",
      "text/plain": [
       "<Figure size 640x480 with 1 Axes>"
      ]
     },
     "metadata": {},
     "output_type": "display_data"
    }
   ],
   "source": [
    "X, y = load_iris(return_X_y=True)\n",
    "\n",
    "plt.scatter(X[:,0], X[:,1], c=y)"
   ]
  },
  {
   "cell_type": "markdown",
   "id": "14b00131",
   "metadata": {
    "papermill": {
     "duration": 0.005659,
     "end_time": "2023-08-14T06:56:44.904301",
     "exception": false,
     "start_time": "2023-08-14T06:56:44.898642",
     "status": "completed"
    },
    "tags": []
   },
   "source": [
    "### Define Torchy model"
   ]
  },
  {
   "cell_type": "code",
   "execution_count": 6,
   "id": "5219bcab",
   "metadata": {
    "execution": {
     "iopub.execute_input": "2023-08-14T06:56:44.918299Z",
     "iopub.status.busy": "2023-08-14T06:56:44.917819Z",
     "iopub.status.idle": "2023-08-14T06:56:44.926093Z",
     "shell.execute_reply": "2023-08-14T06:56:44.924858Z"
    },
    "papermill": {
     "duration": 0.018363,
     "end_time": "2023-08-14T06:56:44.928518",
     "exception": false,
     "start_time": "2023-08-14T06:56:44.910155",
     "status": "completed"
    },
    "tags": []
   },
   "outputs": [],
   "source": [
    "# Defining process works exactly the same as if it were done with PyTorch\n",
    "\n",
    "model = Sequential(\n",
    "    layer.Linear(4, 16),\n",
    "    layer.BatchNorm1d(16),\n",
    "    layer.ReLU(),\n",
    "    \n",
    "    layer.Linear(16, 32),\n",
    "    layer.BatchNorm1d(32),\n",
    "    layer.ReLU(),\n",
    "    \n",
    "    layer.Linear(32, 4)\n",
    ")\n",
    "\n",
    "criterion = loss.CrossEntropyLoss()\n",
    "optimizer = optim.MomentumSGD(model.params(), lr=1e-3, weight_decay=1e-5)"
   ]
  },
  {
   "cell_type": "markdown",
   "id": "722c68c5",
   "metadata": {
    "papermill": {
     "duration": 0.005583,
     "end_time": "2023-08-14T06:56:44.940154",
     "exception": false,
     "start_time": "2023-08-14T06:56:44.934571",
     "status": "completed"
    },
    "tags": []
   },
   "source": [
    "### Define train function"
   ]
  },
  {
   "cell_type": "code",
   "execution_count": 7,
   "id": "85eb40ac",
   "metadata": {
    "execution": {
     "iopub.execute_input": "2023-08-14T06:56:44.954208Z",
     "iopub.status.busy": "2023-08-14T06:56:44.953500Z",
     "iopub.status.idle": "2023-08-14T06:56:44.960515Z",
     "shell.execute_reply": "2023-08-14T06:56:44.959645Z"
    },
    "papermill": {
     "duration": 0.017168,
     "end_time": "2023-08-14T06:56:44.963058",
     "exception": false,
     "start_time": "2023-08-14T06:56:44.945890",
     "status": "completed"
    },
    "tags": []
   },
   "outputs": [],
   "source": [
    "def train_model(X, y, model, criterion, optimizer, n_epochs=40):\n",
    "    loss_history = []\n",
    "    acc_history = []\n",
    "    \n",
    "    for epoch in range(n_epochs):\n",
    "        \n",
    "        predictions = model(X)\n",
    "        \n",
    "        # First difference is every loss object returns loss and its gradient\n",
    "        loss, grad = criterion(predictions, y)\n",
    "        \n",
    "        optimizer.zero_grad()\n",
    "        model.backward(grad)  # Call backward on model object and pass gradient from loss as argument\n",
    "        optimizer.step()\n",
    "        \n",
    "        pred_indices = np.argmax(predictions, axis=1)\n",
    "        accuracy = (np.sum(y == pred_indices)) / y.shape[0]\n",
    "        \n",
    "        acc_history.append(accuracy)\n",
    "        loss_history.append(loss)\n",
    "        \n",
    "        print(f\"Epoch #{epoch} | Accuracy: {np.round(accuracy * 100, 2)}% | Loss: {np.round(loss, 2)}\")\n",
    "        \n",
    "    return loss_history, acc_history"
   ]
  },
  {
   "cell_type": "markdown",
   "id": "90d296fd",
   "metadata": {
    "papermill": {
     "duration": 0.005658,
     "end_time": "2023-08-14T06:56:44.974520",
     "exception": false,
     "start_time": "2023-08-14T06:56:44.968862",
     "status": "completed"
    },
    "tags": []
   },
   "source": [
    "### Training process"
   ]
  },
  {
   "cell_type": "code",
   "execution_count": 8,
   "id": "f3ee9849",
   "metadata": {
    "execution": {
     "iopub.execute_input": "2023-08-14T06:56:44.989336Z",
     "iopub.status.busy": "2023-08-14T06:56:44.988604Z",
     "iopub.status.idle": "2023-08-14T06:56:45.043082Z",
     "shell.execute_reply": "2023-08-14T06:56:45.041069Z"
    },
    "papermill": {
     "duration": 0.065921,
     "end_time": "2023-08-14T06:56:45.046305",
     "exception": false,
     "start_time": "2023-08-14T06:56:44.980384",
     "status": "completed"
    },
    "tags": []
   },
   "outputs": [
    {
     "name": "stdout",
     "output_type": "stream",
     "text": [
      "Epoch #0 | Accuracy: 0.0% | Loss: 1.39\n",
      "Epoch #1 | Accuracy: 0.0% | Loss: 1.39\n",
      "Epoch #2 | Accuracy: 80.67% | Loss: 1.38\n",
      "Epoch #3 | Accuracy: 92.67% | Loss: 1.38\n",
      "Epoch #4 | Accuracy: 90.67% | Loss: 1.38\n",
      "Epoch #5 | Accuracy: 88.0% | Loss: 1.37\n",
      "Epoch #6 | Accuracy: 85.33% | Loss: 1.37\n",
      "Epoch #7 | Accuracy: 84.67% | Loss: 1.36\n",
      "Epoch #8 | Accuracy: 84.67% | Loss: 1.35\n",
      "Epoch #9 | Accuracy: 84.67% | Loss: 1.34\n",
      "Epoch #10 | Accuracy: 84.67% | Loss: 1.32\n",
      "Epoch #11 | Accuracy: 85.33% | Loss: 1.31\n",
      "Epoch #12 | Accuracy: 86.0% | Loss: 1.29\n",
      "Epoch #13 | Accuracy: 86.0% | Loss: 1.28\n",
      "Epoch #14 | Accuracy: 86.0% | Loss: 1.26\n",
      "Epoch #15 | Accuracy: 86.67% | Loss: 1.24\n",
      "Epoch #16 | Accuracy: 89.33% | Loss: 1.22\n",
      "Epoch #17 | Accuracy: 90.67% | Loss: 1.19\n",
      "Epoch #18 | Accuracy: 90.67% | Loss: 1.17\n",
      "Epoch #19 | Accuracy: 91.33% | Loss: 1.15\n",
      "Epoch #20 | Accuracy: 93.33% | Loss: 1.13\n",
      "Epoch #21 | Accuracy: 94.67% | Loss: 1.1\n",
      "Epoch #22 | Accuracy: 95.33% | Loss: 1.08\n",
      "Epoch #23 | Accuracy: 95.33% | Loss: 1.05\n",
      "Epoch #24 | Accuracy: 95.33% | Loss: 1.03\n",
      "Epoch #25 | Accuracy: 95.33% | Loss: 1.01\n",
      "Epoch #26 | Accuracy: 96.0% | Loss: 0.98\n",
      "Epoch #27 | Accuracy: 96.67% | Loss: 0.96\n",
      "Epoch #28 | Accuracy: 96.67% | Loss: 0.94\n",
      "Epoch #29 | Accuracy: 97.33% | Loss: 0.92\n",
      "Epoch #30 | Accuracy: 97.33% | Loss: 0.89\n",
      "Epoch #31 | Accuracy: 98.0% | Loss: 0.87\n",
      "Epoch #32 | Accuracy: 97.33% | Loss: 0.85\n",
      "Epoch #33 | Accuracy: 97.33% | Loss: 0.83\n",
      "Epoch #34 | Accuracy: 97.33% | Loss: 0.81\n",
      "Epoch #35 | Accuracy: 97.33% | Loss: 0.79\n",
      "Epoch #36 | Accuracy: 97.33% | Loss: 0.77\n",
      "Epoch #37 | Accuracy: 97.33% | Loss: 0.76\n",
      "Epoch #38 | Accuracy: 97.33% | Loss: 0.74\n",
      "Epoch #39 | Accuracy: 97.33% | Loss: 0.72\n"
     ]
    }
   ],
   "source": [
    "loss_history, acc_history = train_model(X, y, model, criterion, optimizer)"
   ]
  },
  {
   "cell_type": "markdown",
   "id": "607015ea",
   "metadata": {
    "papermill": {
     "duration": 0.005651,
     "end_time": "2023-08-14T06:56:45.058206",
     "exception": false,
     "start_time": "2023-08-14T06:56:45.052555",
     "status": "completed"
    },
    "tags": []
   },
   "source": [
    "### Plot accuracies and losses over entire training"
   ]
  },
  {
   "cell_type": "code",
   "execution_count": 9,
   "id": "1f2d7f12",
   "metadata": {
    "execution": {
     "iopub.execute_input": "2023-08-14T06:56:45.074917Z",
     "iopub.status.busy": "2023-08-14T06:56:45.073769Z",
     "iopub.status.idle": "2023-08-14T06:56:45.322079Z",
     "shell.execute_reply": "2023-08-14T06:56:45.320676Z"
    },
    "papermill": {
     "duration": 0.259097,
     "end_time": "2023-08-14T06:56:45.324892",
     "exception": false,
     "start_time": "2023-08-14T06:56:45.065795",
     "status": "completed"
    },
    "tags": []
   },
   "outputs": [
    {
     "data": {
      "image/png": "[encoded data removed]",
      "text/plain": [
       "<Figure size 640x480 with 1 Axes>"
      ]
     },
     "metadata": {},
     "output_type": "display_data"
    }
   ],
   "source": [
    "plt.plot(loss_history)\n",
    "\n",
    "plt.xlabel(\"Epochs\")\n",
    "plt.ylabel(\"Loss\")\n",
    "\n",
    "plt.show()"
   ]
  },
  {
   "cell_type": "code",
   "execution_count": 10,
   "id": "713d1d2a",
   "metadata": {
    "execution": {
     "iopub.execute_input": "2023-08-14T06:56:45.341300Z",
     "iopub.status.busy": "2023-08-14T06:56:45.340782Z",
     "iopub.status.idle": "2023-08-14T06:56:45.541686Z",
     "shell.execute_reply": "2023-08-14T06:56:45.539934Z"
    },
    "papermill": {
     "duration": 0.212787,
     "end_time": "2023-08-14T06:56:45.544531",
     "exception": false,
     "start_time": "2023-08-14T06:56:45.331744",
     "status": "completed"
    },
    "tags": []
   },
   "outputs": [
    {
     "data": {
      "image/png": "[encoded data removed]",
      "text/plain": [
       "<Figure size 640x480 with 1 Axes>"
      ]
     },
     "metadata": {},
     "output_type": "display_data"
    }
   ],
   "source": [
    "plt.plot(acc_history)\n",
    "\n",
    "plt.xlabel(\"Epochs\")\n",
    "plt.ylabel(\"Accuracy\")\n",
    "\n",
    "plt.show()"
   ]
  }
 ],
 "metadata": {
  "kernelspec": {
   "display_name": "Python 3",
   "language": "python",
   "name": "python3"
  },
  "language_info": {
   "codemirror_mode": {
    "name": "ipython",
    "version": 3
   },
   "file_extension": ".py",
   "mimetype": "text/x-python",
   "name": "python",
   "nbconvert_exporter": "python",
   "pygments_lexer": "ipython3",
   "version": "3.10.12"
  },
  "papermill": {
   "default_parameters": {},
   "duration": 31.746435,
   "end_time": "2023-08-14T06:56:46.777478",
   "environment_variables": {},
   "exception": null,
   "input_path": "__notebook__.ipynb",
   "output_path": "__notebook__.ipynb",
   "parameters": {},
   "start_time": "2023-08-14T06:56:15.031043",
   "version": "2.4.0"
  }
 },
 "nbformat": 4,
 "nbformat_minor": 5
}
